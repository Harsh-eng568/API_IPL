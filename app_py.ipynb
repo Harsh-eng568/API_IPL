{
  "nbformat": 4,
  "nbformat_minor": 0,
  "metadata": {
    "colab": {
      "provenance": [],
      "authorship_tag": "ABX9TyM+eOb09pWKOqJH8dB+G/B3",
      "include_colab_link": true
    },
    "kernelspec": {
      "name": "python3",
      "display_name": "Python 3"
    },
    "language_info": {
      "name": "python"
    }
  },
  "cells": [
    {
      "cell_type": "markdown",
      "metadata": {
        "id": "view-in-github",
        "colab_type": "text"
      },
      "source": [
        "<a href=\"https://colab.research.google.com/github/Harsh-eng568/API_IPL/blob/main/app_py.ipynb\" target=\"_parent\"><img src=\"https://colab.research.google.com/assets/colab-badge.svg\" alt=\"Open In Colab\"/></a>"
      ]
    },
    {
      "cell_type": "code",
      "execution_count": null,
      "metadata": {
        "id": "9enp7d-RkDbK"
      },
      "outputs": [],
      "source": [
        "from flask import Flask, request, jsonify,json\n",
        "import ipl\n",
        "\n",
        "\n",
        "app = Flask(__name__)\n",
        "\n",
        "@app.route('/')\n",
        "def home():\n",
        "    return \"Hello World\"\n",
        "\n",
        "@app.route('/api/teams')\n",
        "def teams():\n",
        "    teams = ipl.teamsAPI()\n",
        "    return jsonify(teams)\n",
        "\n",
        "@app.route('/api/teamvteam')\n",
        "def teamvteam():\n",
        "    team1 = request.args.get('team1')\n",
        "    team2 = request.args.get('team2')\n",
        "\n",
        "    response = ipl.team_vs_team(team1, team2)\n",
        "    print(response)\n",
        "    return jsonify(response)\n",
        "\n",
        "@app.route('/api/top_player/<int:year>')\n",
        "def top_player_by_year(year):\n",
        "    response = ipl.top_player_for_season(year)\n",
        "    return jsonify(response)\n",
        "\n",
        "@app.route('/api/team_record/<string:team>')\n",
        "def team_record(team):\n",
        "    response = ipl.get_team_record(team)\n",
        "    return jsonify(response)\n",
        "\n",
        "@app.route('/api/batsman_record/<string:batsman>')\n",
        "def batsman_record(batsman):\n",
        "    response = ipl.get_batsman_awards_record(batsman)\n",
        "    return jsonify(response)\n",
        "\n",
        "@app.route('/api/bowler_record/<string:bowler_name>')\n",
        "def bowler_record(bowler_name):\n",
        "    response = ipl.get_bowler_match_count(bowler_name)\n",
        "    return jsonify(response)\n",
        "\n",
        "@app.route('/api/matches_venue/<string:venue_name>')\n",
        "def venue(venue_name):\n",
        "    response = ipl.matches_at_venue(venue_name)\n",
        "    return jsonify(response)\n",
        "\n",
        "@app.route('/api/matches_date/<string:date_str>')\n",
        "def matches_on_dates(date_str):\n",
        "    response = ipl.matches_on_date(date_str)\n",
        "    return jsonify(response)\n",
        "\n",
        "@app.route('/api/toss/<string:team>')\n",
        "def toss(team):\n",
        "    response = ipl.toss_stats(team)\n",
        "    return jsonify(response)\n",
        "\n",
        "@app.route('/api/matches_by_margin', methods=['GET'])\n",
        "def get_matches_by_margin():\n",
        "    win_by = request.args.get('win_by', 'Wickets')\n",
        "    margin = request.args.get('margin', 10)\n",
        "    try:\n",
        "        margin = int(margin)\n",
        "    except ValueError:\n",
        "        return jsonify({'error': 'margin must be an integer'}), 400\n",
        "    response = ipl.matches_by_margin(win_by=win_by, margin=margin)\n",
        "    return jsonify(response)\n",
        "\n",
        "\n",
        "\n",
        "app.run(debug = True)"
      ]
    }
  ]
}